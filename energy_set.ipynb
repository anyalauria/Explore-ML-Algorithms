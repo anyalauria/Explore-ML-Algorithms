{
 "cells": [
  {
   "cell_type": "markdown",
   "metadata": {},
   "source": [
    "# Testing Algorithms on Electrical Energy Output of Power Plant Dataset\n",
    "* dataset: https://archive.ics.uci.edu/ml/datasets/Combined+Cycle+Power+Plant\n"
   ]
  },
  {
   "cell_type": "code",
   "execution_count": 1,
   "metadata": {},
   "outputs": [],
   "source": [
    "import pandas as pd \n",
    "import numpy as np \n",
    "\n",
    "from sklearn.preprocessing import StandardScaler\n",
    "from sklearn.model_selection import train_test_split\n",
    "\n",
    "from sklearn.metrics import f1_score\n",
    "from sklearn.metrics import accuracy_score\n",
    "from sklearn.metrics import roc_auc_score\n",
    "\n",
    "from sklearn.tree import DecisionTreeClassifier\n",
    "from sklearn.model_selection import GridSearchCV\n",
    "from sklearn.neighbors import KNeighborsClassifier\n",
    "from sklearn.pipeline import Pipeline\n",
    "from sklearn.ensemble import RandomForestClassifier\n",
    "from sklearn.linear_model import LogisticRegression\n",
    "\n",
    "from sklearn.model_selection import StratifiedKFold"
   ]
  },
  {
   "cell_type": "code",
   "execution_count": 2,
   "metadata": {},
   "outputs": [],
   "source": [
    "#importing data\n",
    "data = pd.read_excel('datasets/CCP.xlsx')"
   ]
  },
  {
   "cell_type": "code",
   "execution_count": 3,
   "metadata": {},
   "outputs": [
    {
     "data": {
      "text/html": [
       "<div>\n",
       "<style scoped>\n",
       "    .dataframe tbody tr th:only-of-type {\n",
       "        vertical-align: middle;\n",
       "    }\n",
       "\n",
       "    .dataframe tbody tr th {\n",
       "        vertical-align: top;\n",
       "    }\n",
       "\n",
       "    .dataframe thead th {\n",
       "        text-align: right;\n",
       "    }\n",
       "</style>\n",
       "<table border=\"1\" class=\"dataframe\">\n",
       "  <thead>\n",
       "    <tr style=\"text-align: right;\">\n",
       "      <th></th>\n",
       "      <th>AT</th>\n",
       "      <th>V</th>\n",
       "      <th>AP</th>\n",
       "      <th>RH</th>\n",
       "      <th>PE</th>\n",
       "    </tr>\n",
       "  </thead>\n",
       "  <tbody>\n",
       "    <tr>\n",
       "      <th>0</th>\n",
       "      <td>14.96</td>\n",
       "      <td>41.76</td>\n",
       "      <td>1024.07</td>\n",
       "      <td>73.17</td>\n",
       "      <td>463.26</td>\n",
       "    </tr>\n",
       "    <tr>\n",
       "      <th>1</th>\n",
       "      <td>25.18</td>\n",
       "      <td>62.96</td>\n",
       "      <td>1020.04</td>\n",
       "      <td>59.08</td>\n",
       "      <td>444.37</td>\n",
       "    </tr>\n",
       "    <tr>\n",
       "      <th>2</th>\n",
       "      <td>5.11</td>\n",
       "      <td>39.40</td>\n",
       "      <td>1012.16</td>\n",
       "      <td>92.14</td>\n",
       "      <td>488.56</td>\n",
       "    </tr>\n",
       "    <tr>\n",
       "      <th>3</th>\n",
       "      <td>20.86</td>\n",
       "      <td>57.32</td>\n",
       "      <td>1010.24</td>\n",
       "      <td>76.64</td>\n",
       "      <td>446.48</td>\n",
       "    </tr>\n",
       "    <tr>\n",
       "      <th>4</th>\n",
       "      <td>10.82</td>\n",
       "      <td>37.50</td>\n",
       "      <td>1009.23</td>\n",
       "      <td>96.62</td>\n",
       "      <td>473.90</td>\n",
       "    </tr>\n",
       "  </tbody>\n",
       "</table>\n",
       "</div>"
      ],
      "text/plain": [
       "      AT      V       AP     RH      PE\n",
       "0  14.96  41.76  1024.07  73.17  463.26\n",
       "1  25.18  62.96  1020.04  59.08  444.37\n",
       "2   5.11  39.40  1012.16  92.14  488.56\n",
       "3  20.86  57.32  1010.24  76.64  446.48\n",
       "4  10.82  37.50  1009.23  96.62  473.90"
      ]
     },
     "execution_count": 3,
     "metadata": {},
     "output_type": "execute_result"
    }
   ],
   "source": [
    "data.head()"
   ]
  },
  {
   "cell_type": "code",
   "execution_count": 19,
   "metadata": {},
   "outputs": [],
   "source": [
    "#storing the label \n",
    "energy_output = data['PE']\n",
    "\n",
    "#removing label from dataframe\n",
    "data.drop(['PE'], axis=1, inplace=True)\n",
    "\n",
    "#dropping columns with missing rows \n",
    "data.dropna(inplace=True)"
   ]
  },
  {
   "cell_type": "code",
   "execution_count": 20,
   "metadata": {},
   "outputs": [
    {
     "data": {
      "text/plain": [
       "0       1.0\n",
       "1       0.0\n",
       "2       1.0\n",
       "3       0.0\n",
       "4       1.0\n",
       "       ... \n",
       "9563    1.0\n",
       "9564    1.0\n",
       "9565    0.0\n",
       "9566    0.0\n",
       "9567    0.0\n",
       "Name: PE, Length: 9568, dtype: float64"
      ]
     },
     "execution_count": 20,
     "metadata": {},
     "output_type": "execute_result"
    }
   ],
   "source": [
    "energy_output"
   ]
  },
  {
   "cell_type": "code",
   "execution_count": 21,
   "metadata": {},
   "outputs": [],
   "source": [
    "#standardizing data\n",
    "continuous_cols = ['AT','V','AP','RH']\n",
    "features = data[continuous_cols]\n",
    "scaler = StandardScaler().fit(features.values)\n",
    "data[continuous_cols] = scaler.transform(features.values)\n",
    "\n"
   ]
  },
  {
   "cell_type": "code",
   "execution_count": 22,
   "metadata": {},
   "outputs": [
    {
     "data": {
      "text/html": [
       "<div>\n",
       "<style scoped>\n",
       "    .dataframe tbody tr th:only-of-type {\n",
       "        vertical-align: middle;\n",
       "    }\n",
       "\n",
       "    .dataframe tbody tr th {\n",
       "        vertical-align: top;\n",
       "    }\n",
       "\n",
       "    .dataframe thead th {\n",
       "        text-align: right;\n",
       "    }\n",
       "</style>\n",
       "<table border=\"1\" class=\"dataframe\">\n",
       "  <thead>\n",
       "    <tr style=\"text-align: right;\">\n",
       "      <th></th>\n",
       "      <th>AT</th>\n",
       "      <th>V</th>\n",
       "      <th>AP</th>\n",
       "      <th>RH</th>\n",
       "    </tr>\n",
       "  </thead>\n",
       "  <tbody>\n",
       "    <tr>\n",
       "      <th>0</th>\n",
       "      <td>-0.629519</td>\n",
       "      <td>-0.987297</td>\n",
       "      <td>1.820488</td>\n",
       "      <td>-0.009519</td>\n",
       "    </tr>\n",
       "    <tr>\n",
       "      <th>1</th>\n",
       "      <td>0.741909</td>\n",
       "      <td>0.681045</td>\n",
       "      <td>1.141863</td>\n",
       "      <td>-0.974621</td>\n",
       "    </tr>\n",
       "    <tr>\n",
       "      <th>2</th>\n",
       "      <td>-1.951297</td>\n",
       "      <td>-1.173018</td>\n",
       "      <td>-0.185078</td>\n",
       "      <td>1.289840</td>\n",
       "    </tr>\n",
       "    <tr>\n",
       "      <th>3</th>\n",
       "      <td>0.162205</td>\n",
       "      <td>0.237203</td>\n",
       "      <td>-0.508393</td>\n",
       "      <td>0.228160</td>\n",
       "    </tr>\n",
       "    <tr>\n",
       "      <th>4</th>\n",
       "      <td>-1.185069</td>\n",
       "      <td>-1.322539</td>\n",
       "      <td>-0.678470</td>\n",
       "      <td>1.596699</td>\n",
       "    </tr>\n",
       "  </tbody>\n",
       "</table>\n",
       "</div>"
      ],
      "text/plain": [
       "         AT         V        AP        RH\n",
       "0 -0.629519 -0.987297  1.820488 -0.009519\n",
       "1  0.741909  0.681045  1.141863 -0.974621\n",
       "2 -1.951297 -1.173018 -0.185078  1.289840\n",
       "3  0.162205  0.237203 -0.508393  0.228160\n",
       "4 -1.185069 -1.322539 -0.678470  1.596699"
      ]
     },
     "execution_count": 22,
     "metadata": {},
     "output_type": "execute_result"
    }
   ],
   "source": [
    "data.head()"
   ]
  },
  {
   "cell_type": "code",
   "execution_count": 23,
   "metadata": {},
   "outputs": [],
   "source": [
    "label_mean = np.mean(energy_output)"
   ]
  },
  {
   "cell_type": "code",
   "execution_count": 24,
   "metadata": {},
   "outputs": [
    {
     "data": {
      "text/plain": [
       "0.45829849498327757"
      ]
     },
     "execution_count": 24,
     "metadata": {},
     "output_type": "execute_result"
    }
   ],
   "source": [
    "label_mean"
   ]
  },
  {
   "cell_type": "code",
   "execution_count": 25,
   "metadata": {},
   "outputs": [],
   "source": [
    "for i in range(len(Y)):\n",
    "    if (Y[i] >= label_mean):\n",
    "        Y[i] = 1\n",
    "    else:\n",
    "        Y[i] = 0"
   ]
  },
  {
   "cell_type": "code",
   "execution_count": 26,
   "metadata": {},
   "outputs": [],
   "source": [
    "Y = Y.astype(int)"
   ]
  },
  {
   "cell_type": "code",
   "execution_count": 28,
   "metadata": {},
   "outputs": [],
   "source": [
    "X = data"
   ]
  },
  {
   "cell_type": "code",
   "execution_count": 29,
   "metadata": {},
   "outputs": [],
   "source": [
    "#creating 5 sets of training and test data \n",
    "X1_train, X1_test, y1_train, y1_test = train_test_split(X, Y, train_size=5000)\n",
    "X2_train, X2_test, y2_train, y2_test = train_test_split(X, Y, train_size=5000)\n",
    "X3_train, X3_test, y3_train, y3_test = train_test_split(X, Y, train_size=5000)\n",
    "X4_train, X4_test, y4_train, y4_test = train_test_split(X, Y, train_size=5000)\n",
    "X5_train, X5_test, y5_train, y5_test = train_test_split(X, Y, train_size=5000)"
   ]
  },
  {
   "cell_type": "code",
   "execution_count": 30,
   "metadata": {},
   "outputs": [],
   "source": [
    "#creating arrays of training and test sets \n",
    "train_X_sets = [X1_train,X2_train,X3_train,X4_train,X5_train]\n",
    "test_X_sets = [X1_test,X2_test,X3_test,X4_test,X5_test]\n",
    "\n",
    "#creating arrays of training and test sets \n",
    "train_y_sets = [y1_train,y2_train,y3_train,y4_train,y5_train]\n",
    "test_y_sets = [y1_test,y2_test,y3_test,y4_test,y5_test]"
   ]
  },
  {
   "cell_type": "markdown",
   "metadata": {},
   "source": [
    "### Logistic Regression"
   ]
  },
  {
   "cell_type": "code",
   "execution_count": 32,
   "metadata": {},
   "outputs": [],
   "source": [
    "#creating a pipeline in order to grid search \n",
    "pipe = Pipeline([('classifier', LogisticRegression())])\n",
    "\n",
    "# Create search space of candidate learning algorithms and their hyperparameters\n",
    "# note lbfgs can't do l1, and if you pass penalty='none' it expects no C value\n",
    "search_space = [{'classifier': [LogisticRegression(max_iter=5000)],\n",
    "                 'classifier__solver': ['saga'],\n",
    "                 'classifier__penalty': ['l1', 'l2'],\n",
    "                 'classifier__C': np.logspace(-8, 4, 11)},\n",
    "                {'classifier': [LogisticRegression(max_iter=5000)],\n",
    "                 'classifier__solver': ['lbfgs'],\n",
    "                 'classifier__penalty': ['l2'],\n",
    "                 'classifier__C': np.logspace(-8, 4, 11)},\n",
    "                {'classifier': [LogisticRegression(max_iter=5000)],\n",
    "                 'classifier__solver': ['lbfgs','saga'],\n",
    "                 'classifier__penalty': ['none']}\n",
    "                ]\n",
    "# Create grid search \n",
    "clf = GridSearchCV(pipe, search_space, cv=StratifiedKFold(n_splits=5), \n",
    "                   scoring=['accuracy', 'roc_auc', 'f1'], refit=False,\n",
    "                   verbose=0)"
   ]
  },
  {
   "cell_type": "code",
   "execution_count": 34,
   "metadata": {},
   "outputs": [],
   "source": [
    "#fitting the models with 5 fold cross validation\n",
    "logreg_models = []\n",
    "\n",
    "for i in range(5):\n",
    "    logreg_models.append(clf.fit(train_X_sets[i],train_y_sets[i]))"
   ]
  },
  {
   "cell_type": "code",
   "execution_count": 35,
   "metadata": {},
   "outputs": [],
   "source": [
    "#initializing array of training and test set predicted values\n",
    "logreg_train_roc_pred = []\n",
    "logreg_test_roc_pred = []\n",
    "\n",
    "logreg_train_acc_pred = []\n",
    "logreg_test_acc_pred = []\n",
    "\n",
    "logreg_train_f1_pred = []\n",
    "logreg_test_f1_pred = []"
   ]
  },
  {
   "cell_type": "code",
   "execution_count": 36,
   "metadata": {},
   "outputs": [],
   "source": [
    "for i in range(5):\n",
    "    proc = logreg_models[i].cv_results_['params'][ np.argmin(logreg_models[i].cv_results_['rank_test_roc_auc'])]\n",
    "    pacc = logreg_models[i].cv_results_['params'][ np.argmin(logreg_models[i].cv_results_['rank_test_accuracy'])]\n",
    "    pf1 = logreg_models[i].cv_results_['params'][ np.argmin(logreg_models[i].cv_results_['rank_test_f1'])]\n",
    "    \n",
    "    pipe.set_params(**proc)\n",
    "    pipe.fit(train_X_sets[i],train_y_sets[i])\n",
    "\n",
    "    logreg_train_roc_pred.append(pipe.predict(train_X_sets[i]))\n",
    "    logreg_test_roc_pred.append(pipe.predict(test_X_sets[i]))\n",
    "    \n",
    "    pipe.set_params(**pacc)\n",
    "    pipe.fit(train_X_sets[i],train_y_sets[i])\n",
    "    \n",
    "    logreg_train_acc_pred.append(pipe.predict(train_X_sets[i]))\n",
    "    logreg_test_acc_pred.append(pipe.predict(test_X_sets[i]))\n",
    "    \n",
    "    pipe.set_params(**pf1)\n",
    "    pipe.fit(train_X_sets[i],train_y_sets[i])\n",
    "    \n",
    "    logreg_train_f1_pred.append(pipe.predict(train_X_sets[i]))\n",
    "    logreg_test_f1_pred.append(pipe.predict(test_X_sets[i]))"
   ]
  },
  {
   "cell_type": "code",
   "execution_count": 37,
   "metadata": {},
   "outputs": [],
   "source": [
    "#initializing scores arrays for each metric, random forest on adult dataset\n",
    "logreg_train_roc_scores = []\n",
    "logreg_train_acc_scores = []\n",
    "logreg_train_f1_scores = []\n",
    "logreg_test_roc_scores = []\n",
    "logreg_test_acc_scores = []\n",
    "logreg_test_f1_scores = []"
   ]
  },
  {
   "cell_type": "code",
   "execution_count": 38,
   "metadata": {},
   "outputs": [],
   "source": [
    "#populating the scores arrays \n",
    "for i in range(5):\n",
    "    logreg_train_roc_scores.append(roc_auc_score(train_y_sets[i],logreg_train_roc_pred[i]))\n",
    "    logreg_train_acc_scores.append(accuracy_score(train_y_sets[i],logreg_train_acc_pred[i]))\n",
    "    logreg_train_f1_scores.append(f1_score(train_y_sets[i],logreg_train_f1_pred[i]))\n",
    "    logreg_test_roc_scores.append(roc_auc_score(test_y_sets[i],logreg_test_roc_pred[i]))\n",
    "    logreg_test_acc_scores.append(accuracy_score(test_y_sets[i],logreg_test_acc_pred[i]))\n",
    "    logreg_test_f1_scores.append(f1_score(test_y_sets[i],logreg_test_f1_pred[i]))"
   ]
  },
  {
   "cell_type": "code",
   "execution_count": 39,
   "metadata": {},
   "outputs": [],
   "source": [
    "#mean of each metric across trials\n",
    "logreg_train_mean_roc = np.mean(logreg_train_roc_scores)\n",
    "logreg_train_mean_acc = np.mean(logreg_train_acc_scores)\n",
    "logreg_train_mean_f1 = np.mean(logreg_train_f1_scores)\n",
    "logreg_test_mean_roc = np.mean(logreg_test_roc_scores)\n",
    "logreg_test_mean_acc = np.mean(logreg_test_acc_scores)\n",
    "logreg_test_mean_f1 = np.mean(logreg_test_f1_scores)"
   ]
  },
  {
   "cell_type": "code",
   "execution_count": 40,
   "metadata": {},
   "outputs": [],
   "source": [
    "#mean across metrics \n",
    "logreg_metric_mean_test = np.mean([logreg_test_roc_scores,logreg_test_acc_scores,logreg_test_f1_scores])\n",
    "logreg_metric_mean_train = np.mean([logreg_train_roc_scores,logreg_train_acc_scores,logreg_train_f1_scores])"
   ]
  },
  {
   "cell_type": "markdown",
   "metadata": {},
   "source": [
    "### Random Forest"
   ]
  },
  {
   "cell_type": "code",
   "execution_count": 41,
   "metadata": {},
   "outputs": [],
   "source": [
    "#creating a random forest object in order to grid search \n",
    "pipe2 =  RandomForestClassifier(criterion='entropy')\n",
    "\n",
    "#setting the possible options for hyperparameters \n",
    "params = [{'n_estimators':[1024],'max_features':[1,2,4]}]\n",
    "\n",
    "#creating a gridsearch object \n",
    "clf2 = GridSearchCV(pipe2, params, cv=StratifiedKFold(n_splits=5), scoring=['accuracy', 'roc_auc', 'f1'], refit=False, verbose=0)"
   ]
  },
  {
   "cell_type": "code",
   "execution_count": 42,
   "metadata": {},
   "outputs": [],
   "source": [
    "#fitting the models with 5 fold cross validation\n",
    "rf_models = []\n",
    "\n",
    "for i in range(5):\n",
    "    rf_models.append(clf2.fit(train_X_sets[i],train_y_sets[i]))"
   ]
  },
  {
   "cell_type": "code",
   "execution_count": 43,
   "metadata": {},
   "outputs": [],
   "source": [
    "#initializing array of training and test set predicted values\n",
    "rf_train_roc_pred = []\n",
    "rf_test_roc_pred = []\n",
    "\n",
    "rf_train_acc_pred = []\n",
    "rf_test_acc_pred = []\n",
    "\n",
    "rf_train_f1_pred = []\n",
    "rf_test_f1_pred = []"
   ]
  },
  {
   "cell_type": "code",
   "execution_count": 44,
   "metadata": {},
   "outputs": [],
   "source": [
    "for i in range(5):\n",
    "    proc = rf_models[i].cv_results_['params'][ np.argmin(rf_models[i].cv_results_['rank_test_roc_auc'])]\n",
    "    pacc = rf_models[i].cv_results_['params'][ np.argmin(rf_models[i].cv_results_['rank_test_accuracy'])]\n",
    "    pf1 = rf_models[i].cv_results_['params'][ np.argmin(rf_models[i].cv_results_['rank_test_f1'])]\n",
    "    \n",
    "    pipe2.set_params(**proc)\n",
    "    pipe2.fit(train_X_sets[i],train_y_sets[i])\n",
    "\n",
    "    rf_train_roc_pred.append(pipe2.predict(train_X_sets[i]))\n",
    "    rf_test_roc_pred.append(pipe2.predict(test_X_sets[i]))\n",
    "    \n",
    "    pipe2.set_params(**pacc)\n",
    "    pipe2.fit(train_X_sets[i],train_y_sets[i])\n",
    "    \n",
    "    rf_train_acc_pred.append(pipe2.predict(train_X_sets[i]))\n",
    "    rf_test_acc_pred.append(pipe2.predict(test_X_sets[i]))\n",
    "    \n",
    "    pipe2.set_params(**pf1)\n",
    "    pipe2.fit(train_X_sets[i],train_y_sets[i])\n",
    "    \n",
    "    rf_train_f1_pred.append(pipe2.predict(train_X_sets[i]))\n",
    "    rf_test_f1_pred.append(pipe2.predict(test_X_sets[i]))"
   ]
  },
  {
   "cell_type": "code",
   "execution_count": 45,
   "metadata": {},
   "outputs": [],
   "source": [
    "#initializing scores arrays for each metric, random forest on adult dataset\n",
    "rf_train_roc_scores = []\n",
    "rf_train_acc_scores = []\n",
    "rf_train_f1_scores = []\n",
    "rf_test_roc_scores = []\n",
    "rf_test_acc_scores = []\n",
    "rf_test_f1_scores = []"
   ]
  },
  {
   "cell_type": "code",
   "execution_count": 46,
   "metadata": {},
   "outputs": [],
   "source": [
    "#populating the scores arrays \n",
    "for i in range(5):\n",
    "    rf_train_roc_scores.append(roc_auc_score(train_y_sets[i],rf_train_roc_pred[i]))\n",
    "    rf_train_acc_scores.append(accuracy_score(train_y_sets[i],rf_train_acc_pred[i]))\n",
    "    rf_train_f1_scores.append(f1_score(train_y_sets[i],rf_train_f1_pred[i]))\n",
    "    rf_test_roc_scores.append(roc_auc_score(test_y_sets[i],rf_test_roc_pred[i]))\n",
    "    rf_test_acc_scores.append(accuracy_score(test_y_sets[i],rf_test_acc_pred[i]))\n",
    "    rf_test_f1_scores.append(f1_score(test_y_sets[i],rf_test_f1_pred[i]))"
   ]
  },
  {
   "cell_type": "code",
   "execution_count": 47,
   "metadata": {},
   "outputs": [],
   "source": [
    "#mean of each metric across trials\n",
    "rf_train_mean_roc = np.mean(rf_train_roc_scores)\n",
    "rf_train_mean_acc = np.mean(rf_train_acc_scores)\n",
    "rf_train_mean_f1 = np.mean(rf_train_f1_scores)\n",
    "rf_test_mean_roc = np.mean(rf_test_roc_scores)\n",
    "rf_test_mean_acc = np.mean(rf_test_acc_scores)\n",
    "rf_test_mean_f1 = np.mean(rf_test_f1_scores)"
   ]
  },
  {
   "cell_type": "code",
   "execution_count": 48,
   "metadata": {},
   "outputs": [],
   "source": [
    "#mean across metrics \n",
    "rf_metric_mean_test = np.mean([rf_test_roc_scores,rf_test_acc_scores,rf_test_f1_scores])\n",
    "rf_metric_mean_train = np.mean([rf_train_roc_scores,rf_train_acc_scores,rf_train_f1_scores])"
   ]
  },
  {
   "cell_type": "markdown",
   "metadata": {},
   "source": [
    "### kNN"
   ]
  },
  {
   "cell_type": "code",
   "execution_count": 49,
   "metadata": {},
   "outputs": [],
   "source": [
    "#creating a k Nearest Neighbors object in order to grid search \n",
    "pipe3 =  KNeighborsClassifier()\n",
    "step = 500/26\n",
    "k = np.arange(1,500,step,dtype=int)\n",
    "k_params = [{'n_neighbors':k,'weights':['uniform','distance'],'metric':['euclidean','manhattan']}]\n",
    "\n",
    "clf3 = GridSearchCV(pipe3, k_params, cv=StratifiedKFold(n_splits=5), scoring=['accuracy', 'roc_auc', 'f1'], refit=False, verbose=0)"
   ]
  },
  {
   "cell_type": "code",
   "execution_count": 50,
   "metadata": {},
   "outputs": [],
   "source": [
    "#fitting the models with 5 fold cross validation\n",
    "knn_models = []\n",
    "\n",
    "for i in range(5):\n",
    "    knn_models.append(clf3.fit(train_X_sets[i],train_y_sets[i]))"
   ]
  },
  {
   "cell_type": "code",
   "execution_count": 51,
   "metadata": {},
   "outputs": [],
   "source": [
    "#initializing array of training and test set predicted values\n",
    "knn_train_roc_pred = []\n",
    "knn_test_roc_pred = []\n",
    "\n",
    "knn_train_acc_pred = []\n",
    "knn_test_acc_pred = []\n",
    "\n",
    "knn_train_f1_pred = []\n",
    "knn_test_f1_pred = []"
   ]
  },
  {
   "cell_type": "code",
   "execution_count": 52,
   "metadata": {},
   "outputs": [],
   "source": [
    "for i in range(5):\n",
    "    proc = knn_models[i].cv_results_['params'][ np.argmin(knn_models[i].cv_results_['rank_test_roc_auc'])]\n",
    "    pacc = knn_models[i].cv_results_['params'][ np.argmin(knn_models[i].cv_results_['rank_test_accuracy'])]\n",
    "    pf1 = knn_models[i].cv_results_['params'][ np.argmin(knn_models[i].cv_results_['rank_test_f1'])]\n",
    "    \n",
    "    pipe3.set_params(**proc)\n",
    "    pipe3.fit(train_X_sets[i],train_y_sets[i])\n",
    "\n",
    "    knn_train_roc_pred.append(pipe3.predict(train_X_sets[i]))\n",
    "    knn_test_roc_pred.append(pipe3.predict(test_X_sets[i]))\n",
    "    \n",
    "    pipe3.set_params(**pacc)\n",
    "    pipe3.fit(train_X_sets[i],train_y_sets[i])\n",
    "    \n",
    "    knn_train_acc_pred.append(pipe3.predict(train_X_sets[i]))\n",
    "    knn_test_acc_pred.append(pipe3.predict(test_X_sets[i]))\n",
    "    \n",
    "    pipe3.set_params(**pf1)\n",
    "    pipe3.fit(train_X_sets[i],train_y_sets[i])\n",
    "    \n",
    "    knn_train_f1_pred.append(pipe3.predict(train_X_sets[i]))\n",
    "    knn_test_f1_pred.append(pipe3.predict(test_X_sets[i]))"
   ]
  },
  {
   "cell_type": "code",
   "execution_count": 53,
   "metadata": {},
   "outputs": [],
   "source": [
    "#initializing scores arrays for each metric, random forest on adult dataset\n",
    "knn_train_roc_scores = []\n",
    "knn_train_acc_scores = []\n",
    "knn_train_f1_scores = []\n",
    "knn_test_roc_scores = []\n",
    "knn_test_acc_scores = []\n",
    "knn_test_f1_scores = []"
   ]
  },
  {
   "cell_type": "code",
   "execution_count": 54,
   "metadata": {},
   "outputs": [],
   "source": [
    "#populating the scores arrays \n",
    "for i in range(5):\n",
    "    knn_train_roc_scores.append(roc_auc_score(train_y_sets[i],knn_train_roc_pred[i]))\n",
    "    knn_train_acc_scores.append(accuracy_score(train_y_sets[i],knn_train_acc_pred[i]))\n",
    "    knn_train_f1_scores.append(f1_score(train_y_sets[i],knn_train_f1_pred[i]))\n",
    "    knn_test_roc_scores.append(roc_auc_score(test_y_sets[i],knn_test_roc_pred[i]))\n",
    "    knn_test_acc_scores.append(accuracy_score(test_y_sets[i],knn_test_acc_pred[i]))\n",
    "    knn_test_f1_scores.append(f1_score(test_y_sets[i],knn_test_f1_pred[i]))"
   ]
  },
  {
   "cell_type": "code",
   "execution_count": 55,
   "metadata": {},
   "outputs": [],
   "source": [
    "#mean of each metric across trials\n",
    "knn_train_mean_roc = np.mean(knn_train_roc_scores)\n",
    "knn_train_mean_acc = np.mean(knn_train_acc_scores)\n",
    "knn_train_mean_f1 = np.mean(knn_train_f1_scores)\n",
    "knn_test_mean_roc = np.mean(knn_test_roc_scores)\n",
    "knn_test_mean_acc = np.mean(knn_test_acc_scores)\n",
    "knn_test_mean_f1 = np.mean(knn_test_f1_scores)"
   ]
  },
  {
   "cell_type": "code",
   "execution_count": 56,
   "metadata": {},
   "outputs": [],
   "source": [
    "#mean across metrics \n",
    "knn_metric_mean_test = np.mean([knn_test_roc_scores,knn_test_acc_scores,knn_test_f1_scores])\n",
    "knn_metric_mean_train = np.mean([knn_train_roc_scores,knn_train_acc_scores,knn_train_f1_scores])"
   ]
  },
  {
   "cell_type": "code",
   "execution_count": 111,
   "metadata": {},
   "outputs": [
    {
     "data": {
      "text/html": [
       "<div>\n",
       "<style scoped>\n",
       "    .dataframe tbody tr th:only-of-type {\n",
       "        vertical-align: middle;\n",
       "    }\n",
       "\n",
       "    .dataframe tbody tr th {\n",
       "        vertical-align: top;\n",
       "    }\n",
       "\n",
       "    .dataframe thead th {\n",
       "        text-align: right;\n",
       "    }\n",
       "</style>\n",
       "<table border=\"1\" class=\"dataframe\">\n",
       "  <thead>\n",
       "    <tr style=\"text-align: right;\">\n",
       "      <th></th>\n",
       "      <th>mean_fit_time</th>\n",
       "      <th>std_fit_time</th>\n",
       "      <th>mean_score_time</th>\n",
       "      <th>std_score_time</th>\n",
       "      <th>split0_test_accuracy</th>\n",
       "      <th>split1_test_accuracy</th>\n",
       "      <th>split2_test_accuracy</th>\n",
       "      <th>split3_test_accuracy</th>\n",
       "      <th>split4_test_accuracy</th>\n",
       "      <th>mean_test_accuracy</th>\n",
       "      <th>...</th>\n",
       "      <th>std_test_roc_auc</th>\n",
       "      <th>rank_test_roc_auc</th>\n",
       "      <th>split0_test_f1</th>\n",
       "      <th>split1_test_f1</th>\n",
       "      <th>split2_test_f1</th>\n",
       "      <th>split3_test_f1</th>\n",
       "      <th>split4_test_f1</th>\n",
       "      <th>mean_test_f1</th>\n",
       "      <th>std_test_f1</th>\n",
       "      <th>rank_test_f1</th>\n",
       "    </tr>\n",
       "  </thead>\n",
       "  <tbody>\n",
       "    <tr>\n",
       "      <th>count</th>\n",
       "      <td>3.000000</td>\n",
       "      <td>3.000000</td>\n",
       "      <td>3.000000</td>\n",
       "      <td>3.000000</td>\n",
       "      <td>3.000000</td>\n",
       "      <td>3.000000</td>\n",
       "      <td>3.000000</td>\n",
       "      <td>3.000000</td>\n",
       "      <td>3.0000</td>\n",
       "      <td>3.000000</td>\n",
       "      <td>...</td>\n",
       "      <td>3.000000</td>\n",
       "      <td>3.0</td>\n",
       "      <td>3.000000</td>\n",
       "      <td>3.000000</td>\n",
       "      <td>3.000000</td>\n",
       "      <td>3.000000</td>\n",
       "      <td>3.000000</td>\n",
       "      <td>3.000000</td>\n",
       "      <td>3.000000</td>\n",
       "      <td>3.0</td>\n",
       "    </tr>\n",
       "    <tr>\n",
       "      <th>mean</th>\n",
       "      <td>5.329298</td>\n",
       "      <td>0.550261</td>\n",
       "      <td>0.345366</td>\n",
       "      <td>0.020590</td>\n",
       "      <td>0.971000</td>\n",
       "      <td>0.979667</td>\n",
       "      <td>0.960333</td>\n",
       "      <td>0.968333</td>\n",
       "      <td>0.9720</td>\n",
       "      <td>0.970267</td>\n",
       "      <td>...</td>\n",
       "      <td>0.002056</td>\n",
       "      <td>2.0</td>\n",
       "      <td>0.968239</td>\n",
       "      <td>0.977647</td>\n",
       "      <td>0.956617</td>\n",
       "      <td>0.965714</td>\n",
       "      <td>0.969653</td>\n",
       "      <td>0.967574</td>\n",
       "      <td>0.006896</td>\n",
       "      <td>2.0</td>\n",
       "    </tr>\n",
       "    <tr>\n",
       "      <th>std</th>\n",
       "      <td>2.213023</td>\n",
       "      <td>0.633653</td>\n",
       "      <td>0.030631</td>\n",
       "      <td>0.012359</td>\n",
       "      <td>0.001732</td>\n",
       "      <td>0.000577</td>\n",
       "      <td>0.000577</td>\n",
       "      <td>0.003055</td>\n",
       "      <td>0.0010</td>\n",
       "      <td>0.000757</td>\n",
       "      <td>...</td>\n",
       "      <td>0.000358</td>\n",
       "      <td>1.0</td>\n",
       "      <td>0.001839</td>\n",
       "      <td>0.000649</td>\n",
       "      <td>0.000579</td>\n",
       "      <td>0.003340</td>\n",
       "      <td>0.001084</td>\n",
       "      <td>0.000812</td>\n",
       "      <td>0.000480</td>\n",
       "      <td>1.0</td>\n",
       "    </tr>\n",
       "    <tr>\n",
       "      <th>min</th>\n",
       "      <td>3.712373</td>\n",
       "      <td>0.146326</td>\n",
       "      <td>0.315600</td>\n",
       "      <td>0.012530</td>\n",
       "      <td>0.970000</td>\n",
       "      <td>0.979000</td>\n",
       "      <td>0.960000</td>\n",
       "      <td>0.965000</td>\n",
       "      <td>0.9710</td>\n",
       "      <td>0.969400</td>\n",
       "      <td>...</td>\n",
       "      <td>0.001807</td>\n",
       "      <td>1.0</td>\n",
       "      <td>0.967177</td>\n",
       "      <td>0.976898</td>\n",
       "      <td>0.956236</td>\n",
       "      <td>0.962080</td>\n",
       "      <td>0.968581</td>\n",
       "      <td>0.966649</td>\n",
       "      <td>0.006362</td>\n",
       "      <td>1.0</td>\n",
       "    </tr>\n",
       "    <tr>\n",
       "      <th>25%</th>\n",
       "      <td>4.068236</td>\n",
       "      <td>0.185107</td>\n",
       "      <td>0.329652</td>\n",
       "      <td>0.013476</td>\n",
       "      <td>0.970000</td>\n",
       "      <td>0.979500</td>\n",
       "      <td>0.960000</td>\n",
       "      <td>0.967000</td>\n",
       "      <td>0.9715</td>\n",
       "      <td>0.970000</td>\n",
       "      <td>...</td>\n",
       "      <td>0.001851</td>\n",
       "      <td>1.5</td>\n",
       "      <td>0.967177</td>\n",
       "      <td>0.977460</td>\n",
       "      <td>0.956284</td>\n",
       "      <td>0.964247</td>\n",
       "      <td>0.969106</td>\n",
       "      <td>0.967278</td>\n",
       "      <td>0.006698</td>\n",
       "      <td>1.5</td>\n",
       "    </tr>\n",
       "    <tr>\n",
       "      <th>50%</th>\n",
       "      <td>4.424100</td>\n",
       "      <td>0.223887</td>\n",
       "      <td>0.343704</td>\n",
       "      <td>0.014421</td>\n",
       "      <td>0.970000</td>\n",
       "      <td>0.980000</td>\n",
       "      <td>0.960000</td>\n",
       "      <td>0.969000</td>\n",
       "      <td>0.9720</td>\n",
       "      <td>0.970600</td>\n",
       "      <td>...</td>\n",
       "      <td>0.001895</td>\n",
       "      <td>2.0</td>\n",
       "      <td>0.967177</td>\n",
       "      <td>0.978022</td>\n",
       "      <td>0.956332</td>\n",
       "      <td>0.966414</td>\n",
       "      <td>0.969631</td>\n",
       "      <td>0.967908</td>\n",
       "      <td>0.007033</td>\n",
       "      <td>2.0</td>\n",
       "    </tr>\n",
       "    <tr>\n",
       "      <th>75%</th>\n",
       "      <td>6.137761</td>\n",
       "      <td>0.752228</td>\n",
       "      <td>0.360249</td>\n",
       "      <td>0.024620</td>\n",
       "      <td>0.971500</td>\n",
       "      <td>0.980000</td>\n",
       "      <td>0.960500</td>\n",
       "      <td>0.970000</td>\n",
       "      <td>0.9725</td>\n",
       "      <td>0.970700</td>\n",
       "      <td>...</td>\n",
       "      <td>0.002180</td>\n",
       "      <td>2.5</td>\n",
       "      <td>0.968770</td>\n",
       "      <td>0.978022</td>\n",
       "      <td>0.956808</td>\n",
       "      <td>0.967531</td>\n",
       "      <td>0.970189</td>\n",
       "      <td>0.968037</td>\n",
       "      <td>0.007162</td>\n",
       "      <td>2.5</td>\n",
       "    </tr>\n",
       "    <tr>\n",
       "      <th>max</th>\n",
       "      <td>7.851423</td>\n",
       "      <td>1.280569</td>\n",
       "      <td>0.376794</td>\n",
       "      <td>0.034820</td>\n",
       "      <td>0.973000</td>\n",
       "      <td>0.980000</td>\n",
       "      <td>0.961000</td>\n",
       "      <td>0.971000</td>\n",
       "      <td>0.9730</td>\n",
       "      <td>0.970800</td>\n",
       "      <td>...</td>\n",
       "      <td>0.002466</td>\n",
       "      <td>3.0</td>\n",
       "      <td>0.970362</td>\n",
       "      <td>0.978022</td>\n",
       "      <td>0.957284</td>\n",
       "      <td>0.968649</td>\n",
       "      <td>0.970748</td>\n",
       "      <td>0.968166</td>\n",
       "      <td>0.007292</td>\n",
       "      <td>3.0</td>\n",
       "    </tr>\n",
       "  </tbody>\n",
       "</table>\n",
       "<p>8 rows × 28 columns</p>\n",
       "</div>"
      ],
      "text/plain": [
       "       mean_fit_time  std_fit_time  mean_score_time  std_score_time  \\\n",
       "count       3.000000      3.000000         3.000000        3.000000   \n",
       "mean        5.329298      0.550261         0.345366        0.020590   \n",
       "std         2.213023      0.633653         0.030631        0.012359   \n",
       "min         3.712373      0.146326         0.315600        0.012530   \n",
       "25%         4.068236      0.185107         0.329652        0.013476   \n",
       "50%         4.424100      0.223887         0.343704        0.014421   \n",
       "75%         6.137761      0.752228         0.360249        0.024620   \n",
       "max         7.851423      1.280569         0.376794        0.034820   \n",
       "\n",
       "       split0_test_accuracy  split1_test_accuracy  split2_test_accuracy  \\\n",
       "count              3.000000              3.000000              3.000000   \n",
       "mean               0.971000              0.979667              0.960333   \n",
       "std                0.001732              0.000577              0.000577   \n",
       "min                0.970000              0.979000              0.960000   \n",
       "25%                0.970000              0.979500              0.960000   \n",
       "50%                0.970000              0.980000              0.960000   \n",
       "75%                0.971500              0.980000              0.960500   \n",
       "max                0.973000              0.980000              0.961000   \n",
       "\n",
       "       split3_test_accuracy  split4_test_accuracy  mean_test_accuracy  ...  \\\n",
       "count              3.000000                3.0000            3.000000  ...   \n",
       "mean               0.968333                0.9720            0.970267  ...   \n",
       "std                0.003055                0.0010            0.000757  ...   \n",
       "min                0.965000                0.9710            0.969400  ...   \n",
       "25%                0.967000                0.9715            0.970000  ...   \n",
       "50%                0.969000                0.9720            0.970600  ...   \n",
       "75%                0.970000                0.9725            0.970700  ...   \n",
       "max                0.971000                0.9730            0.970800  ...   \n",
       "\n",
       "       std_test_roc_auc  rank_test_roc_auc  split0_test_f1  split1_test_f1  \\\n",
       "count          3.000000                3.0        3.000000        3.000000   \n",
       "mean           0.002056                2.0        0.968239        0.977647   \n",
       "std            0.000358                1.0        0.001839        0.000649   \n",
       "min            0.001807                1.0        0.967177        0.976898   \n",
       "25%            0.001851                1.5        0.967177        0.977460   \n",
       "50%            0.001895                2.0        0.967177        0.978022   \n",
       "75%            0.002180                2.5        0.968770        0.978022   \n",
       "max            0.002466                3.0        0.970362        0.978022   \n",
       "\n",
       "       split2_test_f1  split3_test_f1  split4_test_f1  mean_test_f1  \\\n",
       "count        3.000000        3.000000        3.000000      3.000000   \n",
       "mean         0.956617        0.965714        0.969653      0.967574   \n",
       "std          0.000579        0.003340        0.001084      0.000812   \n",
       "min          0.956236        0.962080        0.968581      0.966649   \n",
       "25%          0.956284        0.964247        0.969106      0.967278   \n",
       "50%          0.956332        0.966414        0.969631      0.967908   \n",
       "75%          0.956808        0.967531        0.970189      0.968037   \n",
       "max          0.957284        0.968649        0.970748      0.968166   \n",
       "\n",
       "       std_test_f1  rank_test_f1  \n",
       "count     3.000000           3.0  \n",
       "mean      0.006896           2.0  \n",
       "std       0.000480           1.0  \n",
       "min       0.006362           1.0  \n",
       "25%       0.006698           1.5  \n",
       "50%       0.007033           2.0  \n",
       "75%       0.007162           2.5  \n",
       "max       0.007292           3.0  \n",
       "\n",
       "[8 rows x 28 columns]"
      ]
     },
     "execution_count": 111,
     "metadata": {},
     "output_type": "execute_result"
    }
   ],
   "source": [
    "pd.DataFrame(rf_models[0].cv_results_).describe()"
   ]
  },
  {
   "cell_type": "code",
   "execution_count": 115,
   "metadata": {},
   "outputs": [
    {
     "data": {
      "text/plain": [
       "{'metric': 'euclidean', 'n_neighbors': 20, 'weights': 'distance'}"
      ]
     },
     "execution_count": 115,
     "metadata": {},
     "output_type": "execute_result"
    }
   ],
   "source": [
    "knn_models[3].cv_results_['params'][ np.argmin(knn_models[i].cv_results_['rank_test_accuracy'])]"
   ]
  },
  {
   "cell_type": "code",
   "execution_count": 118,
   "metadata": {},
   "outputs": [],
   "source": [
    "from sklearn import metrics"
   ]
  },
  {
   "cell_type": "code",
   "execution_count": 123,
   "metadata": {},
   "outputs": [],
   "source": [
    "a,b,_ = metrics.roc_curve(rf_test_roc_pred[0],test_y_sets[0])"
   ]
  },
  {
   "cell_type": "code",
   "execution_count": 124,
   "metadata": {},
   "outputs": [
    {
     "data": {
      "text/plain": [
       "[<matplotlib.lines.Line2D at 0x7fa6365e46d0>]"
      ]
     },
     "execution_count": 124,
     "metadata": {},
     "output_type": "execute_result"
    },
    {
     "data": {
      "image/png": "[encoded data removed]",
      "text/plain": [
       "<Figure size 432x288 with 1 Axes>"
      ]
     },
     "metadata": {
      "image/png": {
       "height": 253,
       "width": 378
      }
     },
     "output_type": "display_data"
    }
   ],
   "source": [
    "plt.plot(a, b, linestyle='--')"
   ]
  },
  {
   "cell_type": "code",
   "execution_count": null,
   "metadata": {},
   "outputs": [],
   "source": []
  }
 ],
 "metadata": {
  "kernelspec": {
   "display_name": "Python 3",
   "language": "python",
   "name": "python3"
  },
  "language_info": {
   "codemirror_mode": {
    "name": "ipython",
    "version": 3
   },
   "file_extension": ".py",
   "mimetype": "text/x-python",
   "name": "python",
   "nbconvert_exporter": "python",
   "pygments_lexer": "ipython3",
   "version": "3.7.6"
  }
 },
 "nbformat": 4,
 "nbformat_minor": 4
}
